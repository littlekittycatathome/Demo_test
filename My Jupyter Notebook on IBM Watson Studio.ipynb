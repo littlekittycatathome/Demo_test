{
 "cells": [
  {
   "cell_type": "markdown",
   "id": "5d954719-4324-4590-98a0-81135960417c",
   "metadata": {
    "tags": []
   },
   "source": [
    "# My Jupyter Notebook on IBM Watson Studio"
   ]
  },
  {
   "cell_type": "markdown",
   "id": "52e5bc83-6fdc-4161-b886-6ef802a1f0f9",
   "metadata": {},
   "source": [
    "**Kevin Yu**"
   ]
  },
  {
   "cell_type": "markdown",
   "id": "d41458ed-2efe-46d6-bda6-84ba07853967",
   "metadata": {},
   "source": [
    "Data Analyst"
   ]
  },
  {
   "cell_type": "markdown",
   "id": "0938598e-c17f-4191-aea8-95dd0feeba91",
   "metadata": {},
   "source": [
    "*I am interested in data science because, I want to discover the possible solution combined the power of AI/ML with the business needs. It allows me to provide deep insights into issues and  discover underlying patterns of new potential insights*"
   ]
  },
  {
   "cell_type": "markdown",
   "id": "881e65d7-e26c-4620-9f2d-1541696065df",
   "metadata": {},
   "source": [
    "### Simple code to calculate the one plus one"
   ]
  },
  {
   "cell_type": "code",
   "execution_count": 6,
   "id": "40c98a9f-1ac6-4a26-9cb1-118c0e0927e9",
   "metadata": {},
   "outputs": [
    {
     "name": "stdout",
     "output_type": "stream",
     "text": [
      "2\n"
     ]
    }
   ],
   "source": [
    "print(1+1)"
   ]
  },
  {
   "cell_type": "markdown",
   "id": "c5752df3-3432-417c-bd60-b0b6c4408798",
   "metadata": {},
   "source": [
    "What technology I want to learn?\n",
    "\n",
    "- one\n",
    "- two\n",
    "- three\n",
    "- four\n",
    "\n",
    "\n",
    "| Python | Typescript | Node.Js |\n",
    "| --- | --- | --- |\n",
    "| ML | OpenCV | NaviCat |\n",
    "\n",
    "\n",
    "<img src= \"https://miro.medium.com/max/700/1*kxQjhdxVgAX-BwTUkoRSHw.png\" width=400 height=400 />"
   ]
  },
  {
   "cell_type": "code",
   "execution_count": null,
   "id": "8a87f560-5e73-4a3f-a395-be6666c7b394",
   "metadata": {},
   "outputs": [],
   "source": []
  },
  {
   "cell_type": "code",
   "execution_count": null,
   "id": "b4e2a4d6-77a3-459f-ac46-94f776e0b4f3",
   "metadata": {},
   "outputs": [],
   "source": []
  },
  {
   "cell_type": "code",
   "execution_count": null,
   "id": "04121551-bd5f-4aa7-aeb8-30cceb60b0cf",
   "metadata": {},
   "outputs": [],
   "source": []
  }
 ],
 "metadata": {
  "kernelspec": {
   "display_name": "Python",
   "language": "python",
   "name": "conda-env-python-py"
  },
  "language_info": {
   "codemirror_mode": {
    "name": "ipython",
    "version": 3
   },
   "file_extension": ".py",
   "mimetype": "text/x-python",
   "name": "python",
   "nbconvert_exporter": "python",
   "pygments_lexer": "ipython3",
   "version": "3.7.12"
  }
 },
 "nbformat": 4,
 "nbformat_minor": 5
}
